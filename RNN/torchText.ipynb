{
 "cells": [
  {
   "cell_type": "code",
   "execution_count": 3,
   "metadata": {},
   "outputs": [],
   "source": [
    "# New Stuff\n",
    "from torchtext.data import Field, TabularDataset, BucketIterator\n",
    "import spacy\n",
    "import torch\n",
    "\n",
    "torch.backends.cudnn.deterministic = True\n",
    "\n",
    "# spacy_en = spacy.load('en')\n",
    "\n",
    "#     return [token.text for token in spacy_en.tokenizer(text)]\n",
    "\n",
    "title = Field(sequential=True, use_vocab=True, tokenize='spacy', lower=True)\n",
    "text = Field(sequential=True, use_vocab=True, tokenize='spacy', lower=True)\n",
    "label = Field(sequential=False, use_vocab=False, dtype = torch.float)\n",
    "\n",
    "fields = {'title': ('title', title), 'text': ('text', text), 'label': ('label', label)}"
   ]
  },
  {
   "cell_type": "code",
   "execution_count": 4,
   "metadata": {},
   "outputs": [
    {
     "output_type": "stream",
     "name": "stdout",
     "text": [
      "Num of training:  6335\nNum of testing:  6335\n"
     ]
    }
   ],
   "source": [
    "train_data, test_data = TabularDataset.splits(\n",
    "    path='../data',\n",
    "    train='news.csv',\n",
    "    test='news.csv',\n",
    "    format='csv',\n",
    "    fields=fields)\n",
    "print(\"Num of training: \", len(train_data))\n",
    "print(\"Num of testing: \", len(test_data))"
   ]
  },
  {
   "cell_type": "code",
   "execution_count": 5,
   "metadata": {},
   "outputs": [
    {
     "output_type": "stream",
     "name": "stdout",
     "text": [
      "Num of training:  4751\nNum of validation:  1584\nNum of testing:  6335\n"
     ]
    }
   ],
   "source": [
    "train_data, validation_data = train_data.split(split_ratio=0.75)\n",
    "print(\"Num of training: \", len(train_data))\n",
    "print(\"Num of validation: \", len(validation_data))\n",
    "print(\"Num of testing: \", len(test_data))"
   ]
  },
  {
   "cell_type": "code",
   "execution_count": 6,
   "metadata": {},
   "outputs": [
    {
     "output_type": "stream",
     "name": "stdout",
     "text": [
      "dict_keys(['title', 'text', 'label'])\ndict_values([['if', 'you', 'really', 'want', 'to', 'save', 'energy', 'at', 'home', ',', 'forget', 'about', 'your', 'light', 'switches'], ['keeping', 'an', 'eye', 'on', 'your', 'own', 'energy', 'use', 'is', 'the', '\"', 'duh', '\"', 'approach', 'to', 'a', 'smorgasbord', 'of', 'environmental', 'problems', ',', 'up', 'to', 'and', 'including', 'climate', 'change', '.', '\\xa0', 'as', 'a', 'reporter', ',', 'i', 'can', 'obsess', 'over', 'research', 'funding', 'for', 'renewable', 'technology', ',', 'or', 'streamlined', 'permitting', 'for', 'solar', 'installations', ',', 'or', 'more', 'public', 'transit', ',', 'or', 'better', 'roads', 'for', 'cyclists', 'and', 'pedestrians', ',', 'or', 'how', 'much', 'fuel', 'is', 'burned', 'in', 'schlepping', 'and', 'refrigerating', 'my', 'food', 'before', 'it', 'gets', 'to', 'me', '.', 'but', 'if', 'i', 'actually', 'want', 'to', 'feel', 'like', 'i', 'have', 'control', 'over', 'one', 'small', 'corner', 'of', 'the', 'world', ',', 'i', 'turn', 'off', 'the', 'lights', 'when', 'i', 'leave', 'the', 'room', '.', '\\n\\n', 'when', 'the', 'downstairs', 'neighbors', 'in', 'my', 'apartment', 'building', 'turn', 'on', 'all', 'the', 'lights', 'in', 'the', 'basement', ',', 'because', 'they', 'are', 'little', 'weenies', 'who', 'are', 'afraid', 'of', 'the', 'dark', ',', 'i', 'go', 'downstairs', ',', 'turn', 'them', 'off', 'myself', ',', 'and', 'generally', 'think', 'uncharitable', 'thoughts', 'about', 'them', 'and', 'their', 'various', 'lifestyle', 'choices', '.', '\\n\\n', 'in', 'all', 'this', 'light', '-', 'switch', 'obsessing', ',', 'i', 'am', 'a', 'textbook', 'illustration', 'of', 'a', 'phenomenon', 'explored', 'recently', 'by', 'the', 'journal', 'of', 'environmental', 'psychology', '.', 'chris', 'mooney', 'over', 'at', '\\xa0', 'the', 'washington', 'post', 'does', 'a', 'good', 'job', 'of', 'summarizing', 'the', 'study', ':', '\\n\\n', 'you', 'know', 'what', 'this', 'means', ':', 'i', 'have', 'been', 'judging', 'my', 'neighbors', 'for', 'all', 'the', 'wrong', 'reasons', '.', 'this', 'is', 'pure', 'tragedy', '.', '\\n\\n', 'the', 'lead', 'author', 'of', 'the', 'study', ',', 'ohio', 'state', 'university', 'psychology', 'doctoral', 'student', 'dan', 'schley', ',', 'hypothesizes', 'that', 'people', 'tend', 'to', 'focus', 'on', 'switches', 'because', 'they', '’re', 'always', 'touching', 'the', 'damn', 'things', '.', 'as', 'he', 'told', 'the', 'post', ':', '\\n\\n', 'as', 'a', 'consequence', ',', 'we', 'tend', 'to', 'relatively', 'underestimate', 'just', 'how', 'much', 'energy', 'it', 'takes', 'to', 'keep', 'the', 'air', 'and', 'water', 'in', 'our', 'homes', 'at', 'a', 'temperature', 'we', 'like', '.', '\\n\\n', 'in', 'general', ',', 'people', 'estimate', 'that', 'the', 'appliances', 'they', 'interact', 'with', 'the', 'most', '(', 'computers', ',', 'light', 'switches', ',', 'televisions', ',', 'stoves', ')', 'use', 'the', 'most', 'energy', ',', 'and', 'that', 'the', 'ones', 'that', 'they', 'just', 'leave', 'running', 'in', 'the', 'background', '(', 'like', 'the', 'furnace', 'and', 'the', 'hot', 'water', 'heater', ')', 'use', 'less', '.', 'in', 'fact', ',', 'home', 'heating', 'is', 'one', 'of', 'the', 'biggest', 'energy', 'sucks', 'out', 'there', '—', 'about', '20', 'percent', 'of', 'home', 'energy', 'use', ',', 'on', 'average', ',', 'instead', 'of', 'the', '7', 'percent', 'that', 'the', 'participants', 'in', 'one', 'study', 'estimated', ',', 'on', 'average', '.', '\\n\\n', 'home', 'heating', 'is', 'one', 'of', 'the', 'biggest', 'energy', 'sucks', 'out', 'there', '\\n\\n', 'the', 'only', 'highly', 'interactive', 'household', 'appliance', 'for', 'which', 'the', 'study', '’s', 'participants', 'tended', 'to', 'underestimate', 'energy', 'consumption', 'was', 'the', 'car', '.', '(', 'on', 'average', ',', 'americans', 'use', 'even', 'more', 'energy', 'driving', 'around', 'than', 'they', 'do', 'heating', 'their', 'homes', '.', ')', 'but', 'then', ',', 'most', 'people', 'do', 'n’t', 'think', 'of', 'driving', 'as', 'household', 'energy', 'consumption', '—', 'possibly', 'because', 'most', 'cars', 'live', 'outside', 'houses', 'and', 'do', 'n’t', 'show', 'up', 'on', 'the', 'monthly', 'utility', 'bill', '(', 'unless', 'they', '’re', 'plug', '-', 'in', 'electrical', 'cars', ')', '.', '\\n\\n', 'what', 'is', 'the', 'smartest', 'use', 'of', 'this', 'information', 'about', 'our', 'own', 'psychology', '?', 'can', 'we', 'make', 'appliances', 'of', 'the', 'future', 'nag', 'us', 'more', '?', 'will', 'energy', '-', 'sucking', 'appliances', 'flamboyantly', 'display', 'their', 'habits', 'instead', 'of', 'being', 'tucked', 'away', 'in', 'utility', 'closets', '?', '(', 'schley', 'suggests', 'having', 'a', 'light', 'somewhere', 'visible', 'in', 'the', 'house', 'that', 'switches', 'on', 'every', 'time', 'the', 'water', 'heater', 'does', '.', ')', '\\n\\n', 'most', 'importantly', ',', 'if', 'blinking', 'lights', 'are', 'such', 'an', 'attention', '-', 'getter', ',', 'can', 'i', 'program', 'my', 'household', 'appliances', 'to', 'throw', 'me', 'a', 'disco', 'party', 'if', 'i', 'meet', 'energy', 'conservation', 'goals', '?', 'because', 'that', '’s', 'the', 'kind', 'of', 'future', 'i', 'can', 'totally', 'get', 'behind', '.', '\\n\\n', 'grist', 'is', 'a', 'nonprofit', 'news', 'site', 'that', 'uses', 'humor', 'to', 'shine', 'a', 'light', 'on', 'big', 'green', 'issues', '.', 'get', 'their', 'email', 'newsletter', 'here', ',', 'and', 'follow', 'them', 'on', 'facebook', 'and', 'twitter', '.'], 'REAL'])\n"
     ]
    }
   ],
   "source": [
    "print(train_data[0].__dict__.keys())\n",
    "print(train_data[0].__dict__.values())"
   ]
  },
  {
   "cell_type": "code",
   "execution_count": 7,
   "metadata": {},
   "outputs": [
    {
     "output_type": "stream",
     "name": "stderr",
     "text": [
      ".vector_cache\\glove.6B.zip: 862MB [06:30, 2.21MB/s]                           \n",
      "100%|█████████▉| 399999/400000 [04:01<00:00, 1656.82it/s]\n"
     ]
    }
   ],
   "source": [
    "MAX_VOCAB_SIZE = 25000\n",
    "text.build_vocab(train_data, vectors = \"glove.6B.100d\", max_size=MAX_VOCAB_SIZE)\n",
    "title.build_vocab(train_data, vectors = \"glove.6B.100d\", max_size=MAX_VOCAB_SIZE)\n",
    "label.build_vocab(train_data)"
   ]
  },
  {
   "cell_type": "code",
   "execution_count": 8,
   "metadata": {},
   "outputs": [],
   "source": [
    "BATCH_SIZE = 64\n",
    "\n",
    "device = torch.device('cuda' if torch.cuda.is_available() else 'cpu')\n",
    "\n",
    "train_iterator, validation_iterator, test_iterator = BucketIterator.splits(\n",
    "    (train_data, validation_data, test_data),\n",
    "    batch_size=BATCH_SIZE,\n",
    "    device=device)"
   ]
  },
  {
   "cell_type": "code",
   "execution_count": 10,
   "metadata": {},
   "outputs": [],
   "source": [
    "import torch.nn as nn\n",
    "\n",
    "class RNN(nn.Module):\n",
    "    def __init__(self, input_dim, embedding_dim, hidden_dim, output_dim):\n",
    "        super().__init__()\n",
    "        self.embedding = nn.Embedding(input_dim, embedding_dim)\n",
    "        self.rnn = nn.RNN(embedding_dim, hidden_dim)\n",
    "        self.fc = nn.Linear(hidden_dim, output_dim)\n",
    "    \n",
    "    def forward(self, text):\n",
    "        embedded = self.embedding(text)\n",
    "\n",
    "        output, hidden = self.rnn(embedded)\n",
    "\n",
    "        assert torch.equal(output[-1,:,:], hidden.squeeze(0))\n",
    "\n",
    "        return self.fc(hidden.squeeze(0))"
   ]
  },
  {
   "cell_type": "code",
   "execution_count": 11,
   "metadata": {},
   "outputs": [],
   "source": [
    "INPUT_DIM = len(text.vocab)\n",
    "EMBEDDING_DIM = 100\n",
    "HIDDEN_DIM = 256\n",
    "OUTPUT_DIM = 1\n",
    "\n",
    "model = RNN(INPUT_DIM, EMBEDDING_DIM, HIDDEN_DIM, OUTPUT_DIM)"
   ]
  },
  {
   "cell_type": "code",
   "execution_count": 15,
   "metadata": {},
   "outputs": [
    {
     "output_type": "stream",
     "name": "stdout",
     "text": [
      "This model has 2,592,105 trainable parameters\n"
     ]
    }
   ],
   "source": [
    "def count_parameters(model):\n",
    "    return sum(p.numel() for p in model.parameters() if p.requires_grad)\n",
    "print(f'This model has {count_parameters(model):,} trainable parameters')"
   ]
  },
  {
   "cell_type": "code",
   "execution_count": 16,
   "metadata": {},
   "outputs": [],
   "source": [
    "import torch.optim as optim\n",
    "\n",
    "optimizer = optim.SGD(model.parameters(), lr=1e-3)"
   ]
  },
  {
   "cell_type": "code",
   "execution_count": null,
   "metadata": {},
   "outputs": [],
   "source": []
  }
 ],
 "metadata": {
  "kernelspec": {
   "display_name": "Python 3",
   "language": "python",
   "name": "python3"
  },
  "language_info": {
   "codemirror_mode": {
    "name": "ipython",
    "version": 3
   },
   "file_extension": ".py",
   "mimetype": "text/x-python",
   "name": "python",
   "nbconvert_exporter": "python",
   "pygments_lexer": "ipython3",
   "version": "3.7.9-final"
  }
 },
 "nbformat": 4,
 "nbformat_minor": 4
}